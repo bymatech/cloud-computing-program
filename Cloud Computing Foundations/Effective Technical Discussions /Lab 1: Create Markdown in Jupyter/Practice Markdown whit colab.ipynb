{
  "cells": [
    {
      "cell_type": "markdown",
      "metadata": {
        "id": "view-in-github",
        "colab_type": "text"
      },
      "source": [
        "<a href=\"https://colab.research.google.com/github/bymatech/cloud-computing-program/blob/main/Cloud%20Computing%20Foundations/Effective%20Technical%20Discussions%20/Lab%201%3A%20Create%20Markdown%20in%20Jupyter/Practice%20Markdown%20whit%20colab.ipynb\" target=\"_parent\"><img src=\"https://colab.research.google.com/assets/colab-badge.svg\" alt=\"Open In Colab\"/></a>"
      ]
    },
    {
      "cell_type": "markdown",
      "metadata": {
        "id": "FnPloLNDxegK"
      },
      "source": [
        "## Practice Markdown"
      ]
    },
    {
      "cell_type": "markdown",
      "metadata": {
        "id": "BIB3MQjUxegN"
      },
      "source": [
        "This notebook lets you experiment with producing repeatable technical documentation.  Use this notebook to do the following actions:\n",
        "\n",
        "* Create a code cell and print a Python Hello World statement:  `print(\"hello world\")`\n",
        "* Create a Markdown Cell and add a Title using `#` and then a statement using plain text.  You can looks at the source code for this cell to get an idea of how to use Markdown.\n",
        "* Take some ideas from the [Master Markdown Github Guide](https://guides.github.com/features/mastering-markdown/) and implement them here.\n",
        "* Download this notebook as a `.ipynb` file and check into a Github Project.  You can [see an example here](https://github.com/noahgift/duke-coursera-ccf-lab1/blob/main/Practice-Markdown.ipynb).\n",
        "* Open your notebook in Google Colab and save it into the same Github Project.  You can [see an example here](https://github.com/noahgift/duke-coursera-ccf-lab1/blob/main/Practice_Markdown_with_colab.ipynb).\n"
      ]
    },
    {
      "cell_type": "markdown",
      "metadata": {
        "id": "qPOH-M66xegO"
      },
      "source": [
        "# How to create simple functions in Python?\n",
        "#### Welcome to this article on how to create simple functions in Python.\n"
      ]
    },
    {
      "cell_type": "code",
      "execution_count": 1,
      "metadata": {
        "colab": {
          "base_uri": "https://localhost:8080/"
        },
        "id": "viIsZRjixegP",
        "outputId": "dee0f537-fbdb-4ec2-c3bf-44c22d227757"
      },
      "outputs": [
        {
          "output_type": "stream",
          "name": "stdout",
          "text": [
            "hello world\n"
          ]
        }
      ],
      "source": [
        "print(\"hello world\")"
      ]
    },
    {
      "cell_type": "markdown",
      "metadata": {
        "id": "h0JhSPIwxegQ"
      },
      "source": [
        "## How to create a function in python without parameters?\n",
        " In this section I will explain how to create a function in Python.\n",
        " 1. First you must define the function."
      ]
    },
    {
      "cell_type": "code",
      "execution_count": 2,
      "metadata": {
        "id": "nt_6DzjUxegQ"
      },
      "outputs": [],
      "source": [
        "def function():{}"
      ]
    },
    {
      "cell_type": "markdown",
      "metadata": {
        "id": "7Ox1EeTwxegQ"
      },
      "source": [
        " 2. Secondly, you must include functionalities within the function."
      ]
    },
    {
      "cell_type": "code",
      "execution_count": 3,
      "metadata": {
        "id": "kco24qCMxegR"
      },
      "outputs": [],
      "source": [
        "def function():\n",
        "    print(\"my function\")"
      ]
    },
    {
      "cell_type": "markdown",
      "metadata": {
        "id": "vwtzN_p8xegR"
      },
      "source": [
        " 3. After creating the function you must call it."
      ]
    },
    {
      "cell_type": "code",
      "execution_count": 4,
      "metadata": {
        "colab": {
          "base_uri": "https://localhost:8080/"
        },
        "id": "FAs2i9zmxegR",
        "outputId": "480e6b73-d02b-46ee-bd97-0c4ffdc2d698"
      },
      "outputs": [
        {
          "output_type": "stream",
          "name": "stdout",
          "text": [
            "my function\n"
          ]
        }
      ],
      "source": [
        "def function():\n",
        "    print(\"my function\")\n",
        "    \n",
        "function()"
      ]
    },
    {
      "cell_type": "markdown",
      "metadata": {
        "id": "ZRJQBdZdxegR"
      },
      "source": [
        "## How to create a function in python with parameters?\n",
        " In this section I will explain how to create a function in Python with parameters.\n",
        " - First you must define the function. Include the params between the brackets.\n",
        "```\n",
        " def function(greetings):\n",
        "```\n"
      ]
    },
    {
      "cell_type": "code",
      "execution_count": 5,
      "metadata": {
        "id": "osihNiLsxegS"
      },
      "outputs": [],
      "source": [
        "def function(greetings):{}"
      ]
    },
    {
      "cell_type": "markdown",
      "metadata": {
        "id": "0K_uRnE2xegS"
      },
      "source": [
        " - Secondly, you must include functionalities within the function. Include the params in this functionalities.\n",
        "```\n",
        "def function(greetings):\n",
        "    print(greetings)\n",
        "```"
      ]
    },
    {
      "cell_type": "code",
      "execution_count": 6,
      "metadata": {
        "id": "l6-SQ5OGxegS"
      },
      "outputs": [],
      "source": [
        "def function(greetings):\n",
        "    print(greetings)"
      ]
    },
    {
      "cell_type": "markdown",
      "metadata": {
        "id": "XLw3_5cDxegS"
      },
      "source": [
        " - After creating the function you must call it with the params.\n",
        " ```\n",
        " function(\"This is my message\")\n",
        " ```"
      ]
    },
    {
      "cell_type": "code",
      "execution_count": 7,
      "metadata": {
        "colab": {
          "base_uri": "https://localhost:8080/"
        },
        "id": "Iod2ihwmxegT",
        "outputId": "612f4050-168f-4b55-cd00-a233c5bdbc31"
      },
      "outputs": [
        {
          "output_type": "stream",
          "name": "stdout",
          "text": [
            "This is my message\n"
          ]
        }
      ],
      "source": [
        "def function(greetings):\n",
        "    print(greetings)\n",
        "    \n",
        "function(\"This is my message\")"
      ]
    },
    {
      "cell_type": "markdown",
      "metadata": {
        "id": "cjFC8ErPxegT"
      },
      "source": [
        "### You can see this and other examples in [my github project](https://github.com/bymatech/cloud-computing-program)."
      ]
    },
    {
      "cell_type": "code",
      "execution_count": null,
      "metadata": {
        "id": "t46dTdB_xegT"
      },
      "outputs": [],
      "source": []
    }
  ],
  "metadata": {
    "kernelspec": {
      "display_name": "Python 3",
      "language": "python",
      "name": "python3"
    },
    "language_info": {
      "codemirror_mode": {
        "name": "ipython",
        "version": 3
      },
      "file_extension": ".py",
      "mimetype": "text/x-python",
      "name": "python",
      "nbconvert_exporter": "python",
      "pygments_lexer": "ipython3",
      "version": "3.7.6"
    },
    "colab": {
      "provenance": [],
      "include_colab_link": true
    }
  },
  "nbformat": 4,
  "nbformat_minor": 0
}